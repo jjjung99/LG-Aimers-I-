{
 "cells": [
  {
   "cell_type": "code",
   "execution_count": 1,
   "id": "378e66f4",
   "metadata": {},
   "outputs": [
    {
     "name": "stdout",
     "output_type": "stream",
     "text": [
      "저장 완료: C:\\Users\\owner\\Desktop\\LG Aimers\\open\\test\\aaTEST_00.csv\n"
     ]
    }
   ],
   "source": [
    "import pandas as pd\n",
    "\n",
    "# -------------------------------\n",
    "# 📁 파일 불러오기 (경로 수정 필요)\n",
    "# -------------------------------\n",
    "file_path = r\"C:\\Users\\owner\\Desktop\\LG Aimers\\open\\test\\TEST_00.csv\"\n",
    "df = pd.read_csv(file_path)\n",
    "\n",
    "# 날짜 변환 및 요일 추출\n",
    "df['영업일자'] = pd.to_datetime(df['영업일자'])\n",
    "df['요일번호'] = df['영업일자'].dt.dayofweek\n",
    "df['요일'] = df['요일번호'].map({\n",
    "    0: '월', 1: '화', 2: '수', 3: '목', 4: '금', 5: '토', 6: '일'\n",
    "})\n",
    "\n",
    "# 영업장, 메뉴 분리\n",
    "df[['영업장명', '메뉴명']] = df['영업장명_메뉴명'].str.split('_', expand=True)\n",
    "df.drop(columns=['영업장명_메뉴명'], inplace=True)\n",
    "\n",
    "# ---------------------------------------------------------------\n",
    "# 🧱 날짜 보간 (누락 날짜 채우기 위해 full index 생성)\n",
    "# ---------------------------------------------------------------\n",
    "all_dates = pd.date_range(df['영업일자'].min(), df['영업일자'].max())\n",
    "menu_keys = df[['영업장명', '메뉴명']].drop_duplicates()\n",
    "menu_keys['key'] = 1\n",
    "full_dates = pd.DataFrame({'영업일자': all_dates, 'key': 1})\n",
    "full_df = pd.merge(menu_keys, full_dates, on='key').drop(columns=['key'])\n",
    "\n",
    "# 원본 데이터 병합 (매출수량 누락 시 NaN 발생)\n",
    "df = pd.merge(full_df, df, on=['영업일자', '영업장명', '메뉴명'], how='left')\n",
    "\n",
    "# 다시 요일 생성\n",
    "df['요일번호'] = df['영업일자'].dt.dayofweek\n",
    "df['요일'] = df['요일번호'].map({\n",
    "    0: '월', 1: '화', 2: '수', 3: '목', 4: '금', 5: '토', 6: '일'\n",
    "})\n",
    "\n",
    "# 매출수량 NaN → 0\n",
    "df['매출수량'] = df['매출수량'].fillna(0)\n",
    "\n",
    "# ---------------------------------------------------------------\n",
    "# 🚩 공휴일 컬럼 추가 (대한민국 2023년 공휴일 기준)\n",
    "# ---------------------------------------------------------------\n",
    "holiday_list = [\n",
    "    '2023-01-01', '2023-01-21', '2023-01-22', '2023-01-23',\n",
    "    '2023-03-01', '2023-05-05', '2023-05-27', '2023-06-06',\n",
    "    '2023-08-15', '2023-09-28', '2023-09-29', '2023-09-30',\n",
    "    '2023-10-03', '2023-10-09', '2023-12-25'\n",
    "]\n",
    "holiday_dates = pd.to_datetime(holiday_list)\n",
    "df['공휴일여부'] = df['영업일자'].isin(holiday_dates).astype(int)\n",
    "\n",
    "# ---------------------------------------------------------------\n",
    "# 💾 저장\n",
    "# ---------------------------------------------------------------\n",
    "save_path = r\"C:\\Users\\owner\\Desktop\\LG Aimers\\open\\test\\aaTEST_00.csv\"\n",
    "df.to_csv(save_path, index=False, encoding='utf-8-sig')\n",
    "\n",
    "print(f\"저장 완료: {save_path}\")\n"
   ]
  }
 ],
 "metadata": {
  "kernelspec": {
   "display_name": "Python 3",
   "language": "python",
   "name": "python3"
  },
  "language_info": {
   "codemirror_mode": {
    "name": "ipython",
    "version": 3
   },
   "file_extension": ".py",
   "mimetype": "text/x-python",
   "name": "python",
   "nbconvert_exporter": "python",
   "pygments_lexer": "ipython3",
   "version": "3.13.3"
  }
 },
 "nbformat": 4,
 "nbformat_minor": 5
}
